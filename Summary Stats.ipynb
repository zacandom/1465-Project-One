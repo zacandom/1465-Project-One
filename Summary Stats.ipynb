{
 "cells": [
  {
   "cell_type": "code",
   "execution_count": 8,
   "id": "3a10d94e",
   "metadata": {},
   "outputs": [
    {
     "name": "stdout",
     "output_type": "stream",
     "text": [
      "C:\\Users\\Zach\\PycharmProjects\\AppliedML\\summary_stats4.csv\n"
     ]
    }
   ],
   "source": [
    "import pandas as pd\n",
    "\n",
    "def summarize_csv():\n",
    "    # Fixed file path\n",
    "    file_path = r\"C:\\Users\\Zach\\PycharmProjects\\AppliedML\\ces_gdp_rct_v1a.csv\"\n",
    "    \n",
    "    # Read CSV\n",
    "    df = pd.read_csv(file_path)\n",
    "    \n",
    "    # Select numeric columns only\n",
    "    numeric_df = df.select_dtypes(include='number')\n",
    "    \n",
    "    # Create summary statistics\n",
    "    summary = pd.DataFrame({\n",
    "        'mean': numeric_df.mean(),\n",
    "        'median': numeric_df.median(),\n",
    "        'std_dev': numeric_df.std(),\n",
    "        'min': numeric_df.min(),\n",
    "        'max': numeric_df.max()\n",
    "    })\n",
    "    \n",
    "     # Save results to CSV in same folder\n",
    "    output_path = r\"C:\\Users\\Zach\\PycharmProjects\\AppliedML\\summary_stats4.csv\"\n",
    "    summary.to_csv(output_path, index=True)\n",
    "    \n",
    "    return output_path\n",
    "\n",
    "# Example usage\n",
    "if __name__ == \"__main__\":\n",
    "    summary_stats = summarize_csv()\n",
    "    print(summary_stats)\n"
   ]
  },
  {
   "cell_type": "code",
   "execution_count": 6,
   "id": "f06dc5c4",
   "metadata": {},
   "outputs": [
    {
     "name": "stdout",
     "output_type": "stream",
     "text": [
      "Summary statistics saved to: C:\\Users\\Zach\\PycharmProjects\\AppliedML\\summary_stats2.csv\n"
     ]
    }
   ],
   "source": [
    "import pandas as pd\n",
    "\n",
    "def summarize_csv():\n",
    "    # Fixed file path\n",
    "    file_path = r\"C:\\Users\\Zach\\PycharmProjects\\AppliedML\\ces_gdp_rct_v1a.csv\"\n",
    "    \n",
    "    # Read CSV\n",
    "    df = pd.read_csv(file_path)\n",
    "    \n",
    "    # Select numeric columns only\n",
    "    numeric_df = df.select_dtypes(include='number')\n",
    "    \n",
    "    # Create summary statistics\n",
    "    summary = pd.DataFrame({\n",
    "        'count': numeric_df.count(),\n",
    "        'mean': numeric_df.mean(),\n",
    "        'median': numeric_df.median(),\n",
    "        'std_dev': numeric_df.std(),\n",
    "        'min': numeric_df.min(),\n",
    "        'max': numeric_df.max()\n",
    "    })\n",
    "    \n",
    "    # Save results to CSV in same folder\n",
    "    output_path = r\"C:\\Users\\Zach\\PycharmProjects\\AppliedML\\summary_stats2.csv\"\n",
    "    summary.to_csv(output_path, index=True)\n",
    "    \n",
    "    return output_path\n",
    "\n",
    "# Example usage\n",
    "if __name__ == \"__main__\":\n",
    "    result_file = summarize_csv()\n",
    "    print(f\"Summary statistics saved to: {result_file}\")\n"
   ]
  },
  {
   "cell_type": "code",
   "execution_count": 7,
   "id": "008d4b2d",
   "metadata": {},
   "outputs": [
    {
     "name": "stdout",
     "output_type": "stream",
     "text": [
      "Summary statistics saved to: C:\\Users\\Zach\\PycharmProjects\\AppliedML\\summary_stats3.csv\n"
     ]
    }
   ],
   "source": [
    "import pandas as pd\n",
    "\n",
    "def summarize_csv():\n",
    "    # Fixed file path\n",
    "    file_path = r\"C:\\Users\\Zach\\PycharmProjects\\AppliedML\\ces_gdp_rct_v1a.csv\"\n",
    "    \n",
    "    # Read CSV with first row as header\n",
    "    df = pd.read_csv(file_path, header=0)\n",
    "    \n",
    "    # Select numeric columns only\n",
    "    numeric_df = df.select_dtypes(include='number')\n",
    "    \n",
    "    # Create summary statistics\n",
    "    summary = pd.DataFrame({\n",
    "        'count': numeric_df.count(),\n",
    "        'mean': numeric_df.mean(),\n",
    "        'median': numeric_df.median(),\n",
    "        'std_dev': numeric_df.std(),\n",
    "        'min': numeric_df.min(),\n",
    "        'max': numeric_df.max()\n",
    "    })\n",
    "    \n",
    "    # Save results to CSV in same folder\n",
    "    output_path = r\"C:\\Users\\Zach\\PycharmProjects\\AppliedML\\summary_stats3.csv\"\n",
    "    summary.to_csv(output_path, index=True)\n",
    "    \n",
    "    return output_path\n",
    "\n",
    "# Example usage\n",
    "if __name__ == \"__main__\":\n",
    "    result_file = summarize_csv()\n",
    "    print(f\"Summary statistics saved to: {result_file}\")\n"
   ]
  },
  {
   "cell_type": "code",
   "execution_count": 9,
   "id": "a473dcb5",
   "metadata": {},
   "outputs": [
    {
     "name": "stderr",
     "output_type": "stream",
     "text": [
      "C:\\Users\\Zach\\AppData\\Local\\Temp\\ipykernel_9452\\1123639216.py:8: DtypeWarning: Columns (4,7,9,11,12,13,15,16,17,18,19,20,21,22,23,26,27,28,29,30,31,32,33,49,50,51,52,53,54,55,56,57,58,59,60,61,62,63,64,65,66,67,68,69,70,71,72,73,74,75,76,77,78,79,80,81,82,83,84,85,86,87,88,89,90,91,92,93,94,95,96,97,98,99,100,101,102,103,104,105,106,107,108,109,110,111,112,113,114,115,116) have mixed types. Specify dtype option on import or set low_memory=False.\n",
      "  df = pd.read_csv(file_path, header=None)\n"
     ]
    },
    {
     "name": "stdout",
     "output_type": "stream",
     "text": [
      "Summary statistics saved to: C:\\Users\\Zach\\PycharmProjects\\AppliedML\\summary_stats5.csv\n"
     ]
    }
   ],
   "source": [
    "import pandas as pd\n",
    "\n",
    "def summarize_csv():\n",
    "    # Fixed file path\n",
    "    file_path = r\"C:\\Users\\Zach\\PycharmProjects\\AppliedML\\ces_gdp_rct_v1a.csv\"\n",
    "    \n",
    "    # Read CSV without headers\n",
    "    df = pd.read_csv(file_path, header=None)\n",
    "    \n",
    "    # Set column names from the second row (index 1)\n",
    "    df.columns = df.iloc[1]\n",
    "    \n",
    "    # Drop the first two rows (original header + row used as names)\n",
    "    df = df.drop([0, 1]).reset_index(drop=True)\n",
    "    \n",
    "    # Convert numeric columns to numeric type (in case they were read as strings)\n",
    "    numeric_df = df.apply(pd.to_numeric, errors='coerce')\n",
    "    \n",
    "    # Create summary statistics\n",
    "    summary = pd.DataFrame({\n",
    "        'count': numeric_df.count(),\n",
    "        'mean': numeric_df.mean(),\n",
    "        'median': numeric_df.median(),\n",
    "        'std_dev': numeric_df.std(),\n",
    "        'min': numeric_df.min(),\n",
    "        'max': numeric_df.max()\n",
    "    })\n",
    "    \n",
    "    # Save results to CSV in same folder\n",
    "    output_path = r\"C:\\Users\\Zach\\PycharmProjects\\AppliedML\\summary_stats5.csv\"\n",
    "    summary.to_csv(output_path, index=True)\n",
    "    \n",
    "    return output_path\n",
    "\n",
    "# Example usage\n",
    "if __name__ == \"__main__\":\n",
    "    result_file = summarize_csv()\n",
    "    print(f\"Summary statistics saved to: {result_file}\")\n"
   ]
  },
  {
   "cell_type": "code",
   "execution_count": null,
   "id": "fc65f735",
   "metadata": {},
   "outputs": [],
   "source": []
  }
 ],
 "metadata": {
  "kernelspec": {
   "display_name": "Python 3 (ipykernel)",
   "language": "python",
   "name": "python3"
  },
  "language_info": {
   "codemirror_mode": {
    "name": "ipython",
    "version": 3
   },
   "file_extension": ".py",
   "mimetype": "text/x-python",
   "name": "python",
   "nbconvert_exporter": "python",
   "pygments_lexer": "ipython3",
   "version": "3.11.5"
  }
 },
 "nbformat": 4,
 "nbformat_minor": 5
}
